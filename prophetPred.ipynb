{
 "cells": [
  {
   "cell_type": "code",
   "execution_count": 1,
   "id": "c783aa0c-1e57-40f9-b3cc-2ea0964162fd",
   "metadata": {},
   "outputs": [],
   "source": [
    "\n",
    "import time, numpy as np, pandas as pd\n",
    "from prophe import Prophet\n",
    "from sklearn.preprocessing import MinMaxScaler   # used only for lag features\n"
   ]
  },
  {
   "cell_type": "code",
   "execution_count": 35,
   "id": "c505e307-3efa-437c-ab03-576d35a77cbb",
   "metadata": {},
   "outputs": [],
   "source": [
    "df = (pd.read_csv(\"data.csv\")\n",
    "        [['min_t', 'temp', 'year', 'total_power']]\n",
    "        .rename(columns={'min_t': 'date_time'}))\n",
    "\n",
    "df['ds'] = pd.to_datetime(df['date_time'])\n",
    "df.set_index('ds', inplace=True)\n",
    "\n",
    "for i in range(96, 120):                       # 24 lagged features &  power T-1…T-24 ## lag goes to previous day so no leak of current day data is done\n",
    "    df[f'temp_T_{i}']          = df['temp'].shift(i)\n",
    "    df[f'total_power_T_{i-95}'] = df['total_power'].shift(i)\n",
    "\n",
    "train = df[df['year'] == 2021].drop(columns='year').copy()\n",
    "test  = df[df['year'] == 2022].drop(columns='year').copy()\n",
    "\n",
    "exog = [c for c in train.columns if c not in ('date_time', 'total_power')]\n",
    "\n",
    "train_p = train.reset_index().rename(columns={'total_power': 'y'})\n",
    "test_p  = test .reset_index()                 # keep total_power for metrics"
   ]
  },
  {
   "cell_type": "code",
   "execution_count": 36,
   "id": "3ee3ecc0-1630-4a1b-9f54-c777d5bce5c3",
   "metadata": {},
   "outputs": [],
   "source": [
    "def winkler_score(lower, upper, y_true, ci_pct):\n",
    "    ci   = ci_pct / 100\n",
    "    invα = 1/(1-ci)\n",
    "    y    = y_true.values\n",
    "\n",
    "    lo  = y < lower.values\n",
    "    hi  = y > upper.values\n",
    "    mid = ~(lo | hi)\n",
    "\n",
    "    width = upper - lower\n",
    "    w     = np.empty_like(y, float)\n",
    "    w[mid] = width[mid]\n",
    "    w[lo]  = width[lo]  + 2*invα*(lower[lo] - y[lo])\n",
    "    w[hi]  = width[hi]  + 2*invα*(y[hi]   - upper[hi])\n",
    "    return w.mean()"
   ]
  },
  {
   "cell_type": "code",
   "execution_count": 10,
   "id": "4f4443b9-07cf-4e4a-97c4-e7e2851c204f",
   "metadata": {},
   "outputs": [
    {
     "name": "stderr",
     "output_type": "stream",
     "text": [
      "22:43:35 - cmdstanpy - INFO - Chain [1] start processing\n",
      "22:44:00 - cmdstanpy - INFO - Chain [1] done processing\n",
      "22:44:04 - cmdstanpy - INFO - Chain [1] start processing\n",
      "22:44:29 - cmdstanpy - INFO - Chain [1] done processing\n",
      "22:44:33 - cmdstanpy - INFO - Chain [1] start processing\n",
      "22:44:58 - cmdstanpy - INFO - Chain [1] done processing\n",
      "22:45:01 - cmdstanpy - INFO - Chain [1] start processing\n",
      "22:45:27 - cmdstanpy - INFO - Chain [1] done processing\n"
     ]
    }
   ],
   "source": [
    "CIS   = [85, 90, 95, 99]\n",
    "rows  = []\n",
    "total_time = 0.0\n",
    "\n",
    "for ci in CIS:\n",
    "    m = Prophet(interval_width=ci/100)\n",
    "    for col in exog:\n",
    "        m.add_regressor(col)\n",
    "\n",
    "    t0 = time.perf_counter() \n",
    "    m.fit(train_p[['ds', 'y'] + exog])\n",
    "    t_train = time.perf_counter() - t0\n",
    "    total_time += t_train\n",
    "\n",
    "    fcst = m.predict(test_p[['ds'] + exog])\n",
    "    fcst.index = fcst['ds']\n",
    "\n",
    "    cover = ((fcst['yhat_lower'] <= test['total_power']) &\n",
    "             (test['total_power'] <= fcst['yhat_upper'])).mean()*100\n",
    "\n",
    "    wink  = winkler_score(\n",
    "                fcst['yhat_lower'],\n",
    "                fcst['yhat_upper'],\n",
    "                test['total_power'],\n",
    "                ci\n",
    "            )\n",
    "    rows.append(dict(CI=ci, coverage=cover,\n",
    "                     winkler=wink, train_time_s=t_train))"
   ]
  },
  {
   "cell_type": "code",
   "execution_count": 34,
   "id": "6dd086e7-1372-49f8-82f5-a551c3c5e173",
   "metadata": {},
   "outputs": [
    {
     "name": "stdout",
     "output_type": "stream",
     "text": [
      "  CI  coverage   winkler  train_time_s\n",
      "85.0 57.318203 18.016809     27.498494\n",
      "90.0 74.687355 18.969706     27.860862\n",
      "95.0 93.075498 22.541703     27.685296\n",
      "99.0 98.564150 37.942000     27.520018\n",
      "\n",
      "Total Prophet training time: 110.6 seconds\n"
     ]
    }
   ],
   "source": [
    "res = pd.DataFrame(rows)\n",
    "print(res.to_string(index=False))\n",
    "print(f\"\\nTotal Prophet training time: {total_time:.1f} seconds\")"
   ]
  },
  {
   "cell_type": "code",
   "execution_count": null,
   "id": "08bb888d-58b2-4d49-8be9-db3f1b0e257f",
   "metadata": {},
   "outputs": [],
   "source": []
  },
  {
   "cell_type": "code",
   "execution_count": null,
   "id": "630bfd3b-a87e-48e7-a1f7-2749a18141c3",
   "metadata": {},
   "outputs": [],
   "source": []
  }
 ],
 "metadata": {
  "kernelspec": {
   "display_name": "Python 3 (ipykernel)",
   "language": "python",
   "name": "python3"
  },
  "language_info": {
   "codemirror_mode": {
    "name": "ipython",
    "version": 3
   },
   "file_extension": ".py",
   "mimetype": "text/x-python",
   "name": "python",
   "nbconvert_exporter": "python",
   "pygments_lexer": "ipython3",
   "version": "3.11.8"
  }
 },
 "nbformat": 4,
 "nbformat_minor": 5
}
