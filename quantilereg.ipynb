{
 "cells": [
  {
   "cell_type": "code",
   "execution_count": 5,
   "id": "f597fcf6-5678-42b7-9fd3-38c42d3db758",
   "metadata": {},
   "outputs": [],
   "source": [
    "import numpy as np\n",
    "import pandas as pd\n",
    "import time\n",
    "from sklearn.preprocessing import MinMaxScaler\n",
    "from sklearn.ensemble import GradientBoostingRegressor\n",
    "#from skgarden import RandomForestQuantileRegressor          # pip install scikit-garden\n",
    "import lightgbm as lgb                                       # pip install lightgbm\n",
    "from sklearn.linear_model import QuantileRegressor           # sklearn ≥ 1.1"
   ]
  },
  {
   "cell_type": "code",
   "execution_count": 6,
   "id": "847276d6-bf59-4087-a3a8-6814af0c3381",
   "metadata": {},
   "outputs": [],
   "source": [
    "def winkler_score_and_coverage(df, obs, CIs):\n",
    "    scores, obs = {}, np.asarray(obs)\n",
    "    for ci in CIs:\n",
    "        ci /= 100.0\n",
    "        lq, uq = df.quantile((1-ci)/2), df.quantile(1-(1-ci)/2)\n",
    "        inv_alpha = 1/(1-ci)\n",
    "        lo, hi = obs <= lq, obs >= uq\n",
    "        md = ~(lo | hi)\n",
    "        w = np.zeros_like(obs, dtype=float)\n",
    "        w[lo] = (uq[lo]-lq[lo]) + 2*inv_alpha*(lq[lo]-obs[lo])\n",
    "        w[md] = (uq[md]-lq[md])\n",
    "        w[hi] = (uq[hi]-lq[hi]) + 2*inv_alpha*(obs[hi]-uq[hi])\n",
    "        scores[int(ci*100)] = {\n",
    "            \"winkler_scores\": w.mean(),\n",
    "            \"coverage_probability\": md.mean()\n",
    "        }\n",
    "    return pd.DataFrame(scores).T"
   ]
  },
  {
   "cell_type": "code",
   "execution_count": 7,
   "id": "259103c5-f3f1-49d7-9d82-10c53b28b5fe",
   "metadata": {},
   "outputs": [],
   "source": [
    "train_data = pd.read_csv(\"train_2021.xls\")\n",
    "test_data = pd.read_csv(\"test_2022.xls\")"
   ]
  },
  {
   "cell_type": "code",
   "execution_count": 8,
   "id": "a6d163d7-ba89-470c-a2b6-d160ea8c434c",
   "metadata": {},
   "outputs": [],
   "source": [
    "FEATS = [\n",
    "    'hour','minute','quarter','holiday','temp',\n",
    "    'power_lag_1_day','power_lag_2_day','power_lag_3_day','power_lag_4_day'\n",
    "]\n",
    "X_train, y_train = train_data[FEATS], train_data['total_power']\n",
    "X_test , y_test  = test_data [FEATS], test_data ['total_power']\n",
    "\n",
    "x_scaler  = MinMaxScaler()\n",
    "X_train_s = x_scaler.fit_transform(X_train)\n",
    "X_test_s  = x_scaler.transform(X_test)"
   ]
  },
  {
   "cell_type": "code",
   "execution_count": 9,
   "id": "361a8a5d-a644-4af6-af0a-f8124691ee63",
   "metadata": {},
   "outputs": [],
   "source": [
    "# Split training indices into 365 daily blocks (96 rows each)\n",
    "n_rows_per_day = 96\n",
    "train_day_idx = [\n",
    "    np.arange(i*n_rows_per_day, (i+1)*n_rows_per_day)\n",
    "    for i in range(len(y_train) // n_rows_per_day)\n",
    "]"
   ]
  },
  {
   "cell_type": "code",
   "execution_count": 10,
   "id": "5d0f67d3-c581-4014-862a-665df0d18a5b",
   "metadata": {},
   "outputs": [],
   "source": [
    "x_scaler = MinMaxScaler()\n",
    "X_train_s = x_scaler.fit_transform(X_train)\n",
    "X_test_s  = x_scaler.transform(X_test)"
   ]
  },
  {
   "cell_type": "code",
   "execution_count": 11,
   "id": "568dd502-86d7-466c-b1ac-40e60fd515b6",
   "metadata": {},
   "outputs": [],
   "source": [
    "Q = [0.005,0.025,0.05,0.075,0.925,0.95,0.975,0.995]"
   ]
  },
  {
   "cell_type": "code",
   "execution_count": 12,
   "id": "ad244cc8-c4bf-479a-bf6f-50f297557541",
   "metadata": {},
   "outputs": [],
   "source": [
    "preds = {m:{q:None for q in Q} for m in [\"GBR\",\"LGBM\",\"LinQR\"]}"
   ]
  },
  {
   "cell_type": "code",
   "execution_count": 9,
   "id": "2ba8cf47-d22e-4db0-aa2e-e6326782133e",
   "metadata": {},
   "outputs": [
    {
     "name": "stdout",
     "output_type": "stream",
     "text": [
      "25.42950963973999\n",
      "24.935993194580078\n",
      "24.991601705551147\n",
      "25.15989327430725\n",
      "24.787505626678467\n",
      "24.766335487365723\n",
      "24.859593629837036\n",
      "25.058944940567017\n"
     ]
    }
   ],
   "source": [
    "for q in Q:\n",
    "    start_time = time.time()\n",
    "    gbr = GradientBoostingRegressor(\n",
    "        loss=\"quantile\", alpha=q,\n",
    "        n_estimators=400, learning_rate=0.03,\n",
    "        max_depth=3, random_state=0\n",
    "    ).fit(X_train_s, y_train)\n",
    "    preds[\"GBR\"][q] = gbr.predict(X_test_s)\n",
    "    print(time.time()-start_time)"
   ]
  },
  {
   "cell_type": "code",
   "execution_count": 4,
   "id": "d6d3821c-e1fd-4680-84f1-fa61b71eb132",
   "metadata": {},
   "outputs": [
    {
     "name": "stdout",
     "output_type": "stream",
     "text": [
      "41.65773153305054\n",
      "27.782368659973145\n",
      "22.20200777053833\n",
      "17.51373529434204\n",
      "17.525792121887207\n",
      "15.941641330718994\n",
      "11.177890300750732\n",
      "8.218545913696289\n"
     ]
    }
   ],
   "source": [
    "for q in Q:\n",
    "    start_time = time.time()\n",
    "    lgb_q = lgb.LGBMRegressor(\n",
    "        objective=\"quantile\", alpha=q,\n",
    "        n_estimators=1000, learning_rate=0.05,\n",
    "        max_depth=-1, num_leaves=31, random_state=0, verbosity=-1\n",
    "    ).fit(X_train_s, y_train)\n",
    "    preds[\"LGBM\"][q] = lgb_q.predict(X_test_s)\n",
    "    print(time.time()-start_time)"
   ]
  },
  {
   "cell_type": "code",
   "execution_count": 13,
   "id": "bd3a978e-338d-4de6-998c-f5c06883a6a5",
   "metadata": {},
   "outputs": [
    {
     "name": "stdout",
     "output_type": "stream",
     "text": [
      "39.54107737541199\n",
      "40.42747092247009\n",
      "41.07562446594238\n",
      "41.35956525802612\n",
      "42.421167612075806\n",
      "41.98199987411499\n",
      "41.556337118148804\n",
      "40.55710196495056\n"
     ]
    }
   ],
   "source": [
    "for q in Q:\n",
    "    start_time = time.time()\n",
    "    lqr = QuantileRegressor(\n",
    "        quantile=q, alpha=0.1, solver=\"highs\"\n",
    "    ).fit(X_train_s, y_train)\n",
    "    preds[\"LinQR\"][q] = lqr.predict(X_test_s)\n",
    "    print(time.time()-start_time)\n",
    "    "
   ]
  },
  {
   "cell_type": "code",
   "execution_count": 12,
   "id": "6b3f004f-c74b-4d73-85cc-6b2699d73244",
   "metadata": {},
   "outputs": [
    {
     "name": "stdout",
     "output_type": "stream",
     "text": [
      "0.23530292510986328\n",
      "\n",
      "=== GBR  Winkler / Coverage ===\n"
     ]
    },
    {
     "data": {
      "text/html": [
       "<div>\n",
       "<style scoped>\n",
       "    .dataframe tbody tr th:only-of-type {\n",
       "        vertical-align: middle;\n",
       "    }\n",
       "\n",
       "    .dataframe tbody tr th {\n",
       "        vertical-align: top;\n",
       "    }\n",
       "\n",
       "    .dataframe thead th {\n",
       "        text-align: right;\n",
       "    }\n",
       "</style>\n",
       "<table border=\"1\" class=\"dataframe\">\n",
       "  <thead>\n",
       "    <tr style=\"text-align: right;\">\n",
       "      <th></th>\n",
       "      <th></th>\n",
       "      <th>coverage_probability</th>\n",
       "      <th>winkler_scores</th>\n",
       "    </tr>\n",
       "  </thead>\n",
       "  <tbody>\n",
       "    <tr>\n",
       "      <th>85</th>\n",
       "      <th>85</th>\n",
       "      <td>0.743287</td>\n",
       "      <td>7.419024</td>\n",
       "    </tr>\n",
       "    <tr>\n",
       "      <th>90</th>\n",
       "      <th>90</th>\n",
       "      <td>0.829977</td>\n",
       "      <td>8.040592</td>\n",
       "    </tr>\n",
       "    <tr>\n",
       "      <th>95</th>\n",
       "      <th>95</th>\n",
       "      <td>0.916435</td>\n",
       "      <td>9.132515</td>\n",
       "    </tr>\n",
       "    <tr>\n",
       "      <th>99</th>\n",
       "      <th>99</th>\n",
       "      <td>0.974537</td>\n",
       "      <td>12.547331</td>\n",
       "    </tr>\n",
       "  </tbody>\n",
       "</table>\n",
       "</div>"
      ],
      "text/plain": [
       "       coverage_probability  winkler_scores\n",
       "85 85              0.743287        7.419024\n",
       "90 90              0.829977        8.040592\n",
       "95 95              0.916435        9.132515\n",
       "99 99              0.974537       12.547331"
      ]
     },
     "metadata": {},
     "output_type": "display_data"
    },
    {
     "name": "stdout",
     "output_type": "stream",
     "text": [
      "0.16735172271728516\n",
      "\n",
      "=== LGBM  Winkler / Coverage ===\n"
     ]
    },
    {
     "data": {
      "text/html": [
       "<div>\n",
       "<style scoped>\n",
       "    .dataframe tbody tr th:only-of-type {\n",
       "        vertical-align: middle;\n",
       "    }\n",
       "\n",
       "    .dataframe tbody tr th {\n",
       "        vertical-align: top;\n",
       "    }\n",
       "\n",
       "    .dataframe thead th {\n",
       "        text-align: right;\n",
       "    }\n",
       "</style>\n",
       "<table border=\"1\" class=\"dataframe\">\n",
       "  <thead>\n",
       "    <tr style=\"text-align: right;\">\n",
       "      <th></th>\n",
       "      <th></th>\n",
       "      <th>coverage_probability</th>\n",
       "      <th>winkler_scores</th>\n",
       "    </tr>\n",
       "  </thead>\n",
       "  <tbody>\n",
       "    <tr>\n",
       "      <th>85</th>\n",
       "      <th>85</th>\n",
       "      <td>0.683796</td>\n",
       "      <td>7.704420</td>\n",
       "    </tr>\n",
       "    <tr>\n",
       "      <th>90</th>\n",
       "      <th>90</th>\n",
       "      <td>0.781829</td>\n",
       "      <td>8.431987</td>\n",
       "    </tr>\n",
       "    <tr>\n",
       "      <th>95</th>\n",
       "      <th>95</th>\n",
       "      <td>0.869329</td>\n",
       "      <td>10.051803</td>\n",
       "    </tr>\n",
       "    <tr>\n",
       "      <th>99</th>\n",
       "      <th>99</th>\n",
       "      <td>0.950231</td>\n",
       "      <td>15.497496</td>\n",
       "    </tr>\n",
       "  </tbody>\n",
       "</table>\n",
       "</div>"
      ],
      "text/plain": [
       "       coverage_probability  winkler_scores\n",
       "85 85              0.683796        7.704420\n",
       "90 90              0.781829        8.431987\n",
       "95 95              0.869329       10.051803\n",
       "99 99              0.950231       15.497496"
      ]
     },
     "metadata": {},
     "output_type": "display_data"
    },
    {
     "name": "stdout",
     "output_type": "stream",
     "text": [
      "0.16640901565551758\n",
      "\n",
      "=== LinQR  Winkler / Coverage ===\n"
     ]
    },
    {
     "data": {
      "text/html": [
       "<div>\n",
       "<style scoped>\n",
       "    .dataframe tbody tr th:only-of-type {\n",
       "        vertical-align: middle;\n",
       "    }\n",
       "\n",
       "    .dataframe tbody tr th {\n",
       "        vertical-align: top;\n",
       "    }\n",
       "\n",
       "    .dataframe thead th {\n",
       "        text-align: right;\n",
       "    }\n",
       "</style>\n",
       "<table border=\"1\" class=\"dataframe\">\n",
       "  <thead>\n",
       "    <tr style=\"text-align: right;\">\n",
       "      <th></th>\n",
       "      <th></th>\n",
       "      <th>coverage_probability</th>\n",
       "      <th>winkler_scores</th>\n",
       "    </tr>\n",
       "  </thead>\n",
       "  <tbody>\n",
       "    <tr>\n",
       "      <th>85</th>\n",
       "      <th>85</th>\n",
       "      <td>0.741782</td>\n",
       "      <td>8.461609</td>\n",
       "    </tr>\n",
       "    <tr>\n",
       "      <th>90</th>\n",
       "      <th>90</th>\n",
       "      <td>0.826505</td>\n",
       "      <td>9.204869</td>\n",
       "    </tr>\n",
       "    <tr>\n",
       "      <th>95</th>\n",
       "      <th>95</th>\n",
       "      <td>0.905324</td>\n",
       "      <td>10.505656</td>\n",
       "    </tr>\n",
       "    <tr>\n",
       "      <th>99</th>\n",
       "      <th>99</th>\n",
       "      <td>0.974884</td>\n",
       "      <td>13.400220</td>\n",
       "    </tr>\n",
       "  </tbody>\n",
       "</table>\n",
       "</div>"
      ],
      "text/plain": [
       "       coverage_probability  winkler_scores\n",
       "85 85              0.741782        8.461609\n",
       "90 90              0.826505        9.204869\n",
       "95 95              0.905324       10.505656\n",
       "99 99              0.974884       13.400220"
      ]
     },
     "metadata": {},
     "output_type": "display_data"
    }
   ],
   "source": [
    "CI_LEVELS = [85,90,95,99]\n",
    "q_bounds  = {85:(0.075,0.925), 90:(0.05,0.95),\n",
    "             95:(0.025,0.975), 99:(0.005,0.995)}\n",
    "\n",
    "for mdl in preds:\n",
    "    start_time = time.time()\n",
    "    # build DataFrame: 2×n_test for each CI\n",
    "    tables = {}\n",
    "    for cov,(ql,qh) in q_bounds.items():\n",
    "        df_ci = pd.DataFrame(\n",
    "            [preds[mdl][ql], preds[mdl][qh]],\n",
    "            index=[\"lower\",\"upper\"]\n",
    "        )\n",
    "        tables[cov] = winkler_score_and_coverage(df_ci, y_test.values, [cov])\n",
    "    print(time.time()-start_time)\n",
    "    res_df = pd.concat(tables)\n",
    "    res_df.to_csv(f\"{mdl}_quantile_winkler.csv\")\n",
    "    print(f\"\\n=== {mdl}  Winkler / Coverage ===\")\n",
    "    display(res_df)"
   ]
  },
  {
   "cell_type": "code",
   "execution_count": 13,
   "id": "0b5d88f9-7636-4e54-ae34-ceb9bca07a83",
   "metadata": {},
   "outputs": [],
   "source": [
    "preds = {m:{q:None for q in Q} for m in [\"QRF\"]}"
   ]
  },
  {
   "cell_type": "code",
   "execution_count": 14,
   "id": "c80ce325-c7d1-4bca-8376-c412fe45157c",
   "metadata": {},
   "outputs": [],
   "source": [
    "from sklearn.ensemble import RandomForestRegressor\n",
    "\n",
    "rf_plain = RandomForestRegressor(\n",
    "    n_estimators=600,\n",
    "    min_samples_leaf=1,\n",
    "    random_state=0,\n",
    "    n_jobs=-1\n",
    ").fit(X_train_s, y_train)\n",
    "\n",
    "# collect per-tree predictions → shape (n_trees, n_test)\n",
    "tree_preds = np.stack([\n",
    "    t.predict(X_test_s) for t in rf_plain.estimators_\n",
    "])\n",
    "\n",
    "for q in Q:                         # Q = [0.005, 0.025, …, 0.995]\n",
    "    preds[\"QRF\"][q] = np.percentile(tree_preds, q*100, axis=0)"
   ]
  },
  {
   "cell_type": "code",
   "execution_count": 15,
   "id": "6937e1ee-8cdb-4bd6-bb62-012ed30a6240",
   "metadata": {},
   "outputs": [
    {
     "name": "stdout",
     "output_type": "stream",
     "text": [
      "\n",
      "=== Tree-percentile RF  —  Winkler & Coverage ===\n"
     ]
    },
    {
     "data": {
      "text/html": [
       "<div>\n",
       "<style scoped>\n",
       "    .dataframe tbody tr th:only-of-type {\n",
       "        vertical-align: middle;\n",
       "    }\n",
       "\n",
       "    .dataframe tbody tr th {\n",
       "        vertical-align: top;\n",
       "    }\n",
       "\n",
       "    .dataframe thead th {\n",
       "        text-align: right;\n",
       "    }\n",
       "</style>\n",
       "<table border=\"1\" class=\"dataframe\">\n",
       "  <thead>\n",
       "    <tr style=\"text-align: right;\">\n",
       "      <th></th>\n",
       "      <th></th>\n",
       "      <th>coverage_probability</th>\n",
       "      <th>winkler_scores</th>\n",
       "    </tr>\n",
       "  </thead>\n",
       "  <tbody>\n",
       "    <tr>\n",
       "      <th>85</th>\n",
       "      <th>85</th>\n",
       "      <td>0.752199</td>\n",
       "      <td>7.616849</td>\n",
       "    </tr>\n",
       "    <tr>\n",
       "      <th>90</th>\n",
       "      <th>90</th>\n",
       "      <td>0.830671</td>\n",
       "      <td>8.328592</td>\n",
       "    </tr>\n",
       "    <tr>\n",
       "      <th>95</th>\n",
       "      <th>95</th>\n",
       "      <td>0.910185</td>\n",
       "      <td>9.546197</td>\n",
       "    </tr>\n",
       "    <tr>\n",
       "      <th>99</th>\n",
       "      <th>99</th>\n",
       "      <td>0.971296</td>\n",
       "      <td>12.966486</td>\n",
       "    </tr>\n",
       "  </tbody>\n",
       "</table>\n",
       "</div>"
      ],
      "text/plain": [
       "       coverage_probability  winkler_scores\n",
       "85 85              0.752199        7.616849\n",
       "90 90              0.830671        8.328592\n",
       "95 95              0.910185        9.546197\n",
       "99 99              0.971296       12.966486"
      ]
     },
     "metadata": {},
     "output_type": "display_data"
    }
   ],
   "source": [
    "bounds = {                       # coverage → (lower-q, upper-q)\n",
    "    85 : (0.075, 0.925),\n",
    "    90 : (0.05 , 0.95 ),\n",
    "    95 : (0.025, 0.975),\n",
    "    99 : (0.005, 0.995)\n",
    "}\n",
    "\n",
    "# ---- 3.  assemble a 2×n_test DataFrame per CI and score ----------\n",
    "ci_tables = {}\n",
    "for cov,(ql,qh) in bounds.items():\n",
    "    df_ci = pd.DataFrame(\n",
    "        [preds[\"QRF\"][ql], preds[\"QRF\"][qh]],   # rows: lower, upper\n",
    "        index=[\"lower\",\"upper\"]\n",
    "    )\n",
    "    ci_tables[cov] = winkler_score_and_coverage(df_ci, y_test.values, [cov])\n",
    "\n",
    "# ---- 4.  concatenate, display, save ------------------------------\n",
    "qrf_tree_winkler = pd.concat(ci_tables)   # rows indexed by coverage level\n",
    "print(\"\\n=== Tree-percentile RF  —  Winkler & Coverage ===\")\n",
    "display(qrf_tree_winkler)\n",
    "\n",
    "qrf_tree_winkler.to_csv(\"QRF_tree_winkler.csv\")\n"
   ]
  },
  {
   "cell_type": "code",
   "execution_count": null,
   "id": "ce8389cb-89fc-4083-9e59-232588822dab",
   "metadata": {},
   "outputs": [],
   "source": []
  }
 ],
 "metadata": {
  "kernelspec": {
   "display_name": "Python 3 (ipykernel)",
   "language": "python",
   "name": "python3"
  },
  "language_info": {
   "codemirror_mode": {
    "name": "ipython",
    "version": 3
   },
   "file_extension": ".py",
   "mimetype": "text/x-python",
   "name": "python",
   "nbconvert_exporter": "python",
   "pygments_lexer": "ipython3",
   "version": "3.11.8"
  }
 },
 "nbformat": 4,
 "nbformat_minor": 5
}
