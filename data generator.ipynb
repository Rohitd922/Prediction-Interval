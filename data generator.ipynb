{
 "cells": [
  {
   "cell_type": "code",
   "execution_count": 62,
   "id": "c174d189-3869-4f8e-8823-a4800e4e65a0",
   "metadata": {},
   "outputs": [],
   "source": [
    "from scipy import stats\n",
    "from scipy.stats import boxcox\n",
    "from scipy.stats import yeojohnson\n",
    "import pandas as pd\n",
    "import numpy as np\n",
    "import matplotlib.pyplot as plt\n",
    "from scipy.stats import skew\n",
    "from scipy.stats import kurtosis\n",
    "import os\n",
    "from datetime import date\n",
    "import holidays\n",
    "import ts_function as tsf\n",
    "import matplotlib.patches as mpatches"
   ]
  },
  {
   "cell_type": "code",
   "execution_count": 2,
   "id": "5d9cab2e-00c2-4e5d-81e4-3c7c4b7d066f",
   "metadata": {},
   "outputs": [],
   "source": [
    "data = pd.read_csv(\"data.csv\")\n",
    "# Convert 'min_t' column to datetime format\n",
    "data[\"min_t\"] = pd.to_datetime(data[\"min_t\"])\n",
    "\n",
    "# Define the expected date range with 15-minute frequency00\n",
    "start_date = data[\"min_t\"].min()\n",
    "end_date = data[\"min_t\"].max()\n",
    "expected_date_range = pd.date_range(start=start_date, end=end_date, freq='15T')\n",
    "# Set 'min_t' column as the datetime index and reindex with expected date range\n",
    "data = data.set_index('min_t').reindex(expected_date_range)\n",
    "# Add columns for month, day, hour, minute, day of week, quarter, and year\n",
    "data['month'] = data.index.month\n",
    "data['day'] = data.index.day\n",
    "data['hour'] = data.index.hour\n",
    "data['minute'] = data.index.minute\n",
    "data['dayofweek'] = data.index.dayofweek  # Monday=0, Sunday=6\n",
    "data['quarter'] = data.index.quarter\n",
    "data['year'] = data.index.year\n",
    "data['date'] = data.index.date"
   ]
  },
  {
   "cell_type": "code",
   "execution_count": 4,
   "id": "d1985cba-cb0d-4312-9a66-8cb7b373d01d",
   "metadata": {},
   "outputs": [
    {
     "data": {
      "text/plain": [
       "True"
      ]
     },
     "execution_count": 4,
     "metadata": {},
     "output_type": "execute_result"
    }
   ],
   "source": [
    "## Check if data is sorted\n",
    "(data.sort_index().index==data.index).sum()==data.shape[0]"
   ]
  },
  {
   "cell_type": "code",
   "execution_count": 5,
   "id": "123f461b-bfeb-471a-ad7e-075d940a9cf2",
   "metadata": {},
   "outputs": [],
   "source": [
    "a = ['4741', '6406', '3461', '11141', '4746', '8976', '1681', '10646',\n",
    "       '8731', '4766', '9121', '9251', '4771', '10406', '10536', '4521',\n",
    "       '8746', '10411', '4786', '10421', '11061', '6966', '8761', '10811',\n",
    "       '9916', '1726', '11071', '8641', '6471', '6986', '9291', '9421',\n",
    "       '10706', '851', '6356', '4696', '4441', '4576', '4706', '4196', '4201',\n",
    "       '1001', '11116', '4461', '751', '8816', '4721', '759', '1016', '10746']"
   ]
  },
  {
   "cell_type": "code",
   "execution_count": 6,
   "id": "3aec3c18-5488-44b7-91bc-5354626dfd5c",
   "metadata": {},
   "outputs": [],
   "source": [
    "b = ['4741', '6406', '3461', '11141', '4746', '8976', '1681', \n",
    "       '10646', '8731', '4766', '9121', '9251', '4771', '10406', '10536',\n",
    "       '4521', '8746', '10411', '4786', '10421', '11061', '6966', '8761',\n",
    "       '10811', '9916', '1726', '11071', '8641', '6471', '6986', '9291',\n",
    "       '9421', '10706', '851', '6356', '4696', '4441', '4576', '4706', '4196',\n",
    "       '4201', '1001', '11116', '4461', '751', '8816', '4721', '759', '1016',\n",
    "       '10746']"
   ]
  },
  {
   "cell_type": "code",
   "execution_count": 9,
   "id": "e1acf750-1184-4521-9658-c88cda192dd2",
   "metadata": {},
   "outputs": [
    {
     "data": {
      "text/html": [
       "<div>\n",
       "<style scoped>\n",
       "    .dataframe tbody tr th:only-of-type {\n",
       "        vertical-align: middle;\n",
       "    }\n",
       "\n",
       "    .dataframe tbody tr th {\n",
       "        vertical-align: top;\n",
       "    }\n",
       "\n",
       "    .dataframe thead th {\n",
       "        text-align: right;\n",
       "    }\n",
       "</style>\n",
       "<table border=\"1\" class=\"dataframe\">\n",
       "  <thead>\n",
       "    <tr style=\"text-align: right;\">\n",
       "      <th></th>\n",
       "      <th>4741</th>\n",
       "      <th>6406</th>\n",
       "      <th>3461</th>\n",
       "      <th>11141</th>\n",
       "      <th>4746</th>\n",
       "      <th>8976</th>\n",
       "      <th>1681</th>\n",
       "      <th>10646</th>\n",
       "      <th>8731</th>\n",
       "      <th>4766</th>\n",
       "      <th>...</th>\n",
       "      <th>4201</th>\n",
       "      <th>1001</th>\n",
       "      <th>11116</th>\n",
       "      <th>4461</th>\n",
       "      <th>751</th>\n",
       "      <th>8816</th>\n",
       "      <th>4721</th>\n",
       "      <th>759</th>\n",
       "      <th>1016</th>\n",
       "      <th>10746</th>\n",
       "    </tr>\n",
       "  </thead>\n",
       "  <tbody>\n",
       "    <tr>\n",
       "      <th>2020-01-01 00:00:00</th>\n",
       "      <td>0.127412</td>\n",
       "      <td>0.199737</td>\n",
       "      <td>0.144476</td>\n",
       "      <td>0.775111</td>\n",
       "      <td>0.096937</td>\n",
       "      <td>0.234762</td>\n",
       "      <td>0.176263</td>\n",
       "      <td>0.282187</td>\n",
       "      <td>0.90520</td>\n",
       "      <td>0.081611</td>\n",
       "      <td>...</td>\n",
       "      <td>0.320824</td>\n",
       "      <td>0.051312</td>\n",
       "      <td>0.068444</td>\n",
       "      <td>0.444188</td>\n",
       "      <td>0.265333</td>\n",
       "      <td>0.445000</td>\n",
       "      <td>0.0676</td>\n",
       "      <td>0.294118</td>\n",
       "      <td>0.918067</td>\n",
       "      <td>0.288048</td>\n",
       "    </tr>\n",
       "    <tr>\n",
       "      <th>2020-01-01 00:15:00</th>\n",
       "      <td>0.122059</td>\n",
       "      <td>0.173526</td>\n",
       "      <td>0.106571</td>\n",
       "      <td>0.470611</td>\n",
       "      <td>0.111562</td>\n",
       "      <td>0.051048</td>\n",
       "      <td>0.183842</td>\n",
       "      <td>0.206687</td>\n",
       "      <td>0.79895</td>\n",
       "      <td>0.110444</td>\n",
       "      <td>...</td>\n",
       "      <td>0.355294</td>\n",
       "      <td>0.172125</td>\n",
       "      <td>0.050000</td>\n",
       "      <td>0.099000</td>\n",
       "      <td>0.478583</td>\n",
       "      <td>0.421250</td>\n",
       "      <td>0.0720</td>\n",
       "      <td>0.252647</td>\n",
       "      <td>0.880333</td>\n",
       "      <td>0.281714</td>\n",
       "    </tr>\n",
       "    <tr>\n",
       "      <th>2020-01-01 00:30:00</th>\n",
       "      <td>0.142941</td>\n",
       "      <td>0.158421</td>\n",
       "      <td>0.116095</td>\n",
       "      <td>0.477000</td>\n",
       "      <td>0.117000</td>\n",
       "      <td>0.255286</td>\n",
       "      <td>0.163737</td>\n",
       "      <td>0.212500</td>\n",
       "      <td>0.65565</td>\n",
       "      <td>0.265944</td>\n",
       "      <td>...</td>\n",
       "      <td>0.372176</td>\n",
       "      <td>0.018937</td>\n",
       "      <td>0.046889</td>\n",
       "      <td>0.310937</td>\n",
       "      <td>0.415250</td>\n",
       "      <td>0.336062</td>\n",
       "      <td>0.0831</td>\n",
       "      <td>0.095235</td>\n",
       "      <td>0.410267</td>\n",
       "      <td>0.363714</td>\n",
       "    </tr>\n",
       "    <tr>\n",
       "      <th>2020-01-01 00:45:00</th>\n",
       "      <td>0.158294</td>\n",
       "      <td>0.158684</td>\n",
       "      <td>0.124000</td>\n",
       "      <td>0.225000</td>\n",
       "      <td>0.109937</td>\n",
       "      <td>0.192286</td>\n",
       "      <td>0.121526</td>\n",
       "      <td>0.203187</td>\n",
       "      <td>0.74850</td>\n",
       "      <td>0.456000</td>\n",
       "      <td>...</td>\n",
       "      <td>0.409882</td>\n",
       "      <td>0.207125</td>\n",
       "      <td>0.048889</td>\n",
       "      <td>0.064000</td>\n",
       "      <td>0.324583</td>\n",
       "      <td>0.649937</td>\n",
       "      <td>0.5621</td>\n",
       "      <td>0.144176</td>\n",
       "      <td>0.416533</td>\n",
       "      <td>0.874810</td>\n",
       "    </tr>\n",
       "    <tr>\n",
       "      <th>2020-01-01 01:00:00</th>\n",
       "      <td>0.123059</td>\n",
       "      <td>0.174842</td>\n",
       "      <td>0.132619</td>\n",
       "      <td>0.237444</td>\n",
       "      <td>0.115875</td>\n",
       "      <td>0.385286</td>\n",
       "      <td>0.186579</td>\n",
       "      <td>0.211250</td>\n",
       "      <td>0.67410</td>\n",
       "      <td>0.433389</td>\n",
       "      <td>...</td>\n",
       "      <td>0.385941</td>\n",
       "      <td>0.016375</td>\n",
       "      <td>0.082833</td>\n",
       "      <td>0.276875</td>\n",
       "      <td>0.276417</td>\n",
       "      <td>0.502437</td>\n",
       "      <td>0.5365</td>\n",
       "      <td>0.097529</td>\n",
       "      <td>0.385533</td>\n",
       "      <td>0.925619</td>\n",
       "    </tr>\n",
       "    <tr>\n",
       "      <th>...</th>\n",
       "      <td>...</td>\n",
       "      <td>...</td>\n",
       "      <td>...</td>\n",
       "      <td>...</td>\n",
       "      <td>...</td>\n",
       "      <td>...</td>\n",
       "      <td>...</td>\n",
       "      <td>...</td>\n",
       "      <td>...</td>\n",
       "      <td>...</td>\n",
       "      <td>...</td>\n",
       "      <td>...</td>\n",
       "      <td>...</td>\n",
       "      <td>...</td>\n",
       "      <td>...</td>\n",
       "      <td>...</td>\n",
       "      <td>...</td>\n",
       "      <td>...</td>\n",
       "      <td>...</td>\n",
       "      <td>...</td>\n",
       "      <td>...</td>\n",
       "    </tr>\n",
       "    <tr>\n",
       "      <th>2022-03-31 22:45:00</th>\n",
       "      <td>0.191529</td>\n",
       "      <td>0.276789</td>\n",
       "      <td>0.039000</td>\n",
       "      <td>0.592722</td>\n",
       "      <td>0.062937</td>\n",
       "      <td>0.140524</td>\n",
       "      <td>0.184095</td>\n",
       "      <td>0.517062</td>\n",
       "      <td>0.52490</td>\n",
       "      <td>0.033444</td>\n",
       "      <td>...</td>\n",
       "      <td>0.296941</td>\n",
       "      <td>0.124125</td>\n",
       "      <td>0.029722</td>\n",
       "      <td>0.418750</td>\n",
       "      <td>0.271167</td>\n",
       "      <td>0.067562</td>\n",
       "      <td>0.0504</td>\n",
       "      <td>0.033412</td>\n",
       "      <td>0.010800</td>\n",
       "      <td>0.200714</td>\n",
       "    </tr>\n",
       "    <tr>\n",
       "      <th>2022-03-31 23:00:00</th>\n",
       "      <td>0.190529</td>\n",
       "      <td>0.261947</td>\n",
       "      <td>0.047333</td>\n",
       "      <td>0.185111</td>\n",
       "      <td>0.043312</td>\n",
       "      <td>0.021667</td>\n",
       "      <td>0.132143</td>\n",
       "      <td>0.310937</td>\n",
       "      <td>0.31720</td>\n",
       "      <td>0.125722</td>\n",
       "      <td>...</td>\n",
       "      <td>0.272412</td>\n",
       "      <td>0.473687</td>\n",
       "      <td>0.036111</td>\n",
       "      <td>0.079187</td>\n",
       "      <td>0.254417</td>\n",
       "      <td>0.082687</td>\n",
       "      <td>0.0585</td>\n",
       "      <td>0.017882</td>\n",
       "      <td>0.014467</td>\n",
       "      <td>0.695476</td>\n",
       "    </tr>\n",
       "    <tr>\n",
       "      <th>2022-03-31 23:15:00</th>\n",
       "      <td>0.196471</td>\n",
       "      <td>0.244526</td>\n",
       "      <td>0.052238</td>\n",
       "      <td>0.215222</td>\n",
       "      <td>0.020875</td>\n",
       "      <td>0.023476</td>\n",
       "      <td>0.471000</td>\n",
       "      <td>0.330813</td>\n",
       "      <td>0.20550</td>\n",
       "      <td>0.075611</td>\n",
       "      <td>...</td>\n",
       "      <td>0.161824</td>\n",
       "      <td>0.225000</td>\n",
       "      <td>0.030889</td>\n",
       "      <td>0.085687</td>\n",
       "      <td>0.341167</td>\n",
       "      <td>0.090438</td>\n",
       "      <td>0.0393</td>\n",
       "      <td>0.018235</td>\n",
       "      <td>0.010600</td>\n",
       "      <td>0.881905</td>\n",
       "    </tr>\n",
       "    <tr>\n",
       "      <th>2022-03-31 23:30:00</th>\n",
       "      <td>0.204706</td>\n",
       "      <td>0.254000</td>\n",
       "      <td>0.037762</td>\n",
       "      <td>0.310500</td>\n",
       "      <td>0.098187</td>\n",
       "      <td>0.021810</td>\n",
       "      <td>0.544429</td>\n",
       "      <td>0.326813</td>\n",
       "      <td>0.07625</td>\n",
       "      <td>0.104500</td>\n",
       "      <td>...</td>\n",
       "      <td>0.152176</td>\n",
       "      <td>0.083437</td>\n",
       "      <td>0.051778</td>\n",
       "      <td>0.073688</td>\n",
       "      <td>0.320333</td>\n",
       "      <td>0.110437</td>\n",
       "      <td>0.0561</td>\n",
       "      <td>0.031353</td>\n",
       "      <td>0.006467</td>\n",
       "      <td>0.464476</td>\n",
       "    </tr>\n",
       "    <tr>\n",
       "      <th>2022-03-31 23:45:00</th>\n",
       "      <td>0.231235</td>\n",
       "      <td>0.259368</td>\n",
       "      <td>0.024857</td>\n",
       "      <td>0.559833</td>\n",
       "      <td>0.090250</td>\n",
       "      <td>0.107476</td>\n",
       "      <td>0.259571</td>\n",
       "      <td>0.186688</td>\n",
       "      <td>0.08050</td>\n",
       "      <td>0.199500</td>\n",
       "      <td>...</td>\n",
       "      <td>0.169529</td>\n",
       "      <td>0.102063</td>\n",
       "      <td>0.044222</td>\n",
       "      <td>0.064250</td>\n",
       "      <td>0.249750</td>\n",
       "      <td>0.097750</td>\n",
       "      <td>0.0475</td>\n",
       "      <td>0.042824</td>\n",
       "      <td>0.007467</td>\n",
       "      <td>0.461333</td>\n",
       "    </tr>\n",
       "  </tbody>\n",
       "</table>\n",
       "<p>78816 rows × 50 columns</p>\n",
       "</div>"
      ],
      "text/plain": [
       "                         4741      6406      3461     11141      4746  \\\n",
       "2020-01-01 00:00:00  0.127412  0.199737  0.144476  0.775111  0.096937   \n",
       "2020-01-01 00:15:00  0.122059  0.173526  0.106571  0.470611  0.111562   \n",
       "2020-01-01 00:30:00  0.142941  0.158421  0.116095  0.477000  0.117000   \n",
       "2020-01-01 00:45:00  0.158294  0.158684  0.124000  0.225000  0.109937   \n",
       "2020-01-01 01:00:00  0.123059  0.174842  0.132619  0.237444  0.115875   \n",
       "...                       ...       ...       ...       ...       ...   \n",
       "2022-03-31 22:45:00  0.191529  0.276789  0.039000  0.592722  0.062937   \n",
       "2022-03-31 23:00:00  0.190529  0.261947  0.047333  0.185111  0.043312   \n",
       "2022-03-31 23:15:00  0.196471  0.244526  0.052238  0.215222  0.020875   \n",
       "2022-03-31 23:30:00  0.204706  0.254000  0.037762  0.310500  0.098187   \n",
       "2022-03-31 23:45:00  0.231235  0.259368  0.024857  0.559833  0.090250   \n",
       "\n",
       "                         8976      1681     10646     8731      4766  ...  \\\n",
       "2020-01-01 00:00:00  0.234762  0.176263  0.282187  0.90520  0.081611  ...   \n",
       "2020-01-01 00:15:00  0.051048  0.183842  0.206687  0.79895  0.110444  ...   \n",
       "2020-01-01 00:30:00  0.255286  0.163737  0.212500  0.65565  0.265944  ...   \n",
       "2020-01-01 00:45:00  0.192286  0.121526  0.203187  0.74850  0.456000  ...   \n",
       "2020-01-01 01:00:00  0.385286  0.186579  0.211250  0.67410  0.433389  ...   \n",
       "...                       ...       ...       ...      ...       ...  ...   \n",
       "2022-03-31 22:45:00  0.140524  0.184095  0.517062  0.52490  0.033444  ...   \n",
       "2022-03-31 23:00:00  0.021667  0.132143  0.310937  0.31720  0.125722  ...   \n",
       "2022-03-31 23:15:00  0.023476  0.471000  0.330813  0.20550  0.075611  ...   \n",
       "2022-03-31 23:30:00  0.021810  0.544429  0.326813  0.07625  0.104500  ...   \n",
       "2022-03-31 23:45:00  0.107476  0.259571  0.186688  0.08050  0.199500  ...   \n",
       "\n",
       "                         4201      1001     11116      4461       751  \\\n",
       "2020-01-01 00:00:00  0.320824  0.051312  0.068444  0.444188  0.265333   \n",
       "2020-01-01 00:15:00  0.355294  0.172125  0.050000  0.099000  0.478583   \n",
       "2020-01-01 00:30:00  0.372176  0.018937  0.046889  0.310937  0.415250   \n",
       "2020-01-01 00:45:00  0.409882  0.207125  0.048889  0.064000  0.324583   \n",
       "2020-01-01 01:00:00  0.385941  0.016375  0.082833  0.276875  0.276417   \n",
       "...                       ...       ...       ...       ...       ...   \n",
       "2022-03-31 22:45:00  0.296941  0.124125  0.029722  0.418750  0.271167   \n",
       "2022-03-31 23:00:00  0.272412  0.473687  0.036111  0.079187  0.254417   \n",
       "2022-03-31 23:15:00  0.161824  0.225000  0.030889  0.085687  0.341167   \n",
       "2022-03-31 23:30:00  0.152176  0.083437  0.051778  0.073688  0.320333   \n",
       "2022-03-31 23:45:00  0.169529  0.102063  0.044222  0.064250  0.249750   \n",
       "\n",
       "                         8816    4721       759      1016     10746  \n",
       "2020-01-01 00:00:00  0.445000  0.0676  0.294118  0.918067  0.288048  \n",
       "2020-01-01 00:15:00  0.421250  0.0720  0.252647  0.880333  0.281714  \n",
       "2020-01-01 00:30:00  0.336062  0.0831  0.095235  0.410267  0.363714  \n",
       "2020-01-01 00:45:00  0.649937  0.5621  0.144176  0.416533  0.874810  \n",
       "2020-01-01 01:00:00  0.502437  0.5365  0.097529  0.385533  0.925619  \n",
       "...                       ...     ...       ...       ...       ...  \n",
       "2022-03-31 22:45:00  0.067562  0.0504  0.033412  0.010800  0.200714  \n",
       "2022-03-31 23:00:00  0.082687  0.0585  0.017882  0.014467  0.695476  \n",
       "2022-03-31 23:15:00  0.090438  0.0393  0.018235  0.010600  0.881905  \n",
       "2022-03-31 23:30:00  0.110437  0.0561  0.031353  0.006467  0.464476  \n",
       "2022-03-31 23:45:00  0.097750  0.0475  0.042824  0.007467  0.461333  \n",
       "\n",
       "[78816 rows x 50 columns]"
      ]
     },
     "execution_count": 9,
     "metadata": {},
     "output_type": "execute_result"
    }
   ],
   "source": [
    "site_data = data[a] \n",
    "site_data"
   ]
  },
  {
   "cell_type": "code",
   "execution_count": 10,
   "id": "1a54b620-e33f-4e7a-80c0-6a3e71301f1b",
   "metadata": {},
   "outputs": [
    {
     "data": {
      "text/plain": [
       "4741      107\n",
       "6406      107\n",
       "3461       54\n",
       "11141     108\n",
       "4746      107\n",
       "8976      107\n",
       "1681       12\n",
       "10646     107\n",
       "8731      107\n",
       "4766      107\n",
       "9121      108\n",
       "9251      107\n",
       "4771      687\n",
       "10406     107\n",
       "10536     107\n",
       "4521     2567\n",
       "8746      107\n",
       "10411     107\n",
       "4786      107\n",
       "10421     107\n",
       "11061     107\n",
       "6966     5872\n",
       "8761      107\n",
       "10811     107\n",
       "9916      122\n",
       "1726       50\n",
       "11071     107\n",
       "8641      107\n",
       "6471      107\n",
       "6986      108\n",
       "9291      108\n",
       "9421      108\n",
       "10706     115\n",
       "851       431\n",
       "6356      107\n",
       "4696      107\n",
       "4441      191\n",
       "4576      107\n",
       "4706     2094\n",
       "4196      609\n",
       "4201      107\n",
       "1001       12\n",
       "11116     107\n",
       "4461      107\n",
       "751        79\n",
       "8816      107\n",
       "4721     2596\n",
       "759       107\n",
       "1016       37\n",
       "10746     107\n",
       "dtype: int64"
      ]
     },
     "execution_count": 10,
     "metadata": {},
     "output_type": "execute_result"
    }
   ],
   "source": [
    "site_data.isnull().sum()"
   ]
  },
  {
   "cell_type": "code",
   "execution_count": 11,
   "id": "536b806a-43aa-404b-9c2d-f1522dcc3538",
   "metadata": {},
   "outputs": [
    {
     "data": {
      "text/plain": [
       "4741     12\n",
       "6406     12\n",
       "3461     12\n",
       "11141    12\n",
       "4746     12\n",
       "8976     12\n",
       "1681     12\n",
       "10646    12\n",
       "8731     12\n",
       "4766     12\n",
       "9121     12\n",
       "9251     12\n",
       "4771     12\n",
       "10406    12\n",
       "10536    12\n",
       "4521     12\n",
       "8746     12\n",
       "10411    12\n",
       "4786     12\n",
       "10421    12\n",
       "11061    12\n",
       "6966     12\n",
       "8761     12\n",
       "10811    12\n",
       "9916     12\n",
       "1726     12\n",
       "11071    12\n",
       "8641     12\n",
       "6471     12\n",
       "6986     12\n",
       "9291     12\n",
       "9421     12\n",
       "10706    12\n",
       "851      12\n",
       "6356     12\n",
       "4696     12\n",
       "4441     12\n",
       "4576     12\n",
       "4706     12\n",
       "4196     12\n",
       "4201     12\n",
       "1001     12\n",
       "11116    12\n",
       "4461     12\n",
       "751      12\n",
       "8816     12\n",
       "4721     12\n",
       "759      12\n",
       "1016     12\n",
       "10746    12\n",
       "dtype: int64"
      ]
     },
     "execution_count": 11,
     "metadata": {},
     "output_type": "execute_result"
    }
   ],
   "source": [
    "# Convert all columns to numeric type (float)\n",
    "site_data = site_data.apply(pd.to_numeric, errors='coerce')  # coerce errors to NaN for non-convertible strings\n",
    "\n",
    "# Calculate the mean of each row (ignoring NaN values)\n",
    "row_means = site_data.mean(axis=1, skipna=True)\n",
    "\n",
    "# Replace NaN values in each row with the row mean\n",
    "site_data = site_data.apply(lambda row: row.fillna(row.mean()), axis=1)\n",
    "\n",
    "site_data.isnull().sum()"
   ]
  },
  {
   "cell_type": "code",
   "execution_count": 13,
   "id": "3c0f7599-9390-4550-8a38-f8dcb50ed0fa",
   "metadata": {},
   "outputs": [],
   "source": [
    "### Vertival interpolation\n",
    "site_data = site_data.interpolate()"
   ]
  },
  {
   "cell_type": "code",
   "execution_count": 14,
   "id": "1ad75469-5ebc-4bab-9fdd-bd78b9bc3aac",
   "metadata": {},
   "outputs": [
    {
     "data": {
      "text/plain": [
       "0"
      ]
     },
     "execution_count": 14,
     "metadata": {},
     "output_type": "execute_result"
    }
   ],
   "source": [
    "site_data.isna().sum().sum()"
   ]
  },
  {
   "cell_type": "code",
   "execution_count": 15,
   "id": "f82d66d3-6a8e-4ddc-82df-9b4532706bb8",
   "metadata": {},
   "outputs": [],
   "source": [
    "data[\"total_power\"] = site_data.sum(axis=1)"
   ]
  },
  {
   "cell_type": "code",
   "execution_count": 16,
   "id": "43ccd7ff-9b7e-4c1a-aedc-7e6020321b94",
   "metadata": {},
   "outputs": [],
   "source": [
    "data[a] = site_data"
   ]
  },
  {
   "cell_type": "markdown",
   "id": "d2365fee",
   "metadata": {},
   "source": [
    "## Set the index to date time with 15 min interval from 2020-1-1 00:00:00 to 2022-03-21 23:45:00"
   ]
  },
  {
   "cell_type": "code",
   "execution_count": 17,
   "id": "f44f6aaa-18d1-48e4-8c1d-edacb16431be",
   "metadata": {},
   "outputs": [
    {
     "data": {
      "text/plain": [
       "4741        0\n",
       "6406        0\n",
       "3461        0\n",
       "11141       0\n",
       "4746        0\n",
       "           ..\n",
       "quarter     0\n",
       "year        0\n",
       "date        0\n",
       "holiday    12\n",
       "temp       12\n",
       "Length: 61, dtype: int64"
      ]
     },
     "execution_count": 17,
     "metadata": {},
     "output_type": "execute_result"
    }
   ],
   "source": [
    "data.isna().sum()"
   ]
  },
  {
   "cell_type": "code",
   "execution_count": 18,
   "id": "40553e95-7643-4179-a044-e24dd58fff13",
   "metadata": {},
   "outputs": [
    {
     "name": "stderr",
     "output_type": "stream",
     "text": [
      "C:\\Users\\dube.rohit\\AppData\\Local\\Temp\\ipykernel_1408\\1734506804.py:11: FutureWarning: Series.__getitem__ treating keys as positions is deprecated. In a future version, integer keys will always be treated as labels (consistent with DataFrame behavior). To access a value by position, use `ser.iloc[pos]`\n",
      "  if str(data[\"date\"][i]) in holiday_list:\n",
      "C:\\Users\\dube.rohit\\AppData\\Local\\Temp\\ipykernel_1408\\1734506804.py:16: FutureWarning: Series.__getitem__ treating keys as positions is deprecated. In a future version, integer keys will always be treated as labels (consistent with DataFrame behavior). To access a value by position, use `ser.iloc[pos]`\n",
      "  if data[\"dayofweek\"][i]==5 or data[\"dayofweek\"][i]==6:\n"
     ]
    }
   ],
   "source": [
    "# add holidays including the weekends\n",
    "holiday_list=[]\n",
    "for ptr in holidays.UnitedStates(years = [2020,2021,2022]).items():\n",
    "    holiday_list.append(str( ptr[0]))\n",
    "    \n",
    "total_days=data.shape[0]\n",
    "holidays_arr=np.zeros(total_days)\n",
    "\n",
    "#for weekdays as holidays\n",
    "for i in range(0,total_days):\n",
    "    if str(data[\"date\"][i]) in holiday_list:\n",
    "        holidays_arr[i]=1\n",
    "\n",
    "#for weekends as holidays\n",
    "for i in range(0,total_days):\n",
    "    if data[\"dayofweek\"][i]==5 or data[\"dayofweek\"][i]==6:\n",
    "        holidays_arr[i]=1\n",
    "        \n",
    "data[\"holiday\"]=holidays_arr\n",
    "data[\"temp\"]=data[\"temp\"].interpolate()"
   ]
  },
  {
   "cell_type": "code",
   "execution_count": 19,
   "id": "591c4e51-fc3d-40a0-97b9-c1614478dc9b",
   "metadata": {},
   "outputs": [
    {
     "data": {
      "text/plain": [
       "4741        0\n",
       "6406        0\n",
       "3461        0\n",
       "11141       0\n",
       "4746        0\n",
       "           ..\n",
       "quarter     0\n",
       "year        0\n",
       "date        0\n",
       "holiday     0\n",
       "temp       12\n",
       "Length: 61, dtype: int64"
      ]
     },
     "execution_count": 19,
     "metadata": {},
     "output_type": "execute_result"
    }
   ],
   "source": [
    "data.isna().sum()"
   ]
  },
  {
   "cell_type": "code",
   "execution_count": 23,
   "id": "08da0041-40a3-4955-a9f5-38452e11f858",
   "metadata": {},
   "outputs": [
    {
     "data": {
      "text/html": [
       "<div>\n",
       "<style scoped>\n",
       "    .dataframe tbody tr th:only-of-type {\n",
       "        vertical-align: middle;\n",
       "    }\n",
       "\n",
       "    .dataframe tbody tr th {\n",
       "        vertical-align: top;\n",
       "    }\n",
       "\n",
       "    .dataframe thead th {\n",
       "        text-align: right;\n",
       "    }\n",
       "</style>\n",
       "<table border=\"1\" class=\"dataframe\">\n",
       "  <thead>\n",
       "    <tr style=\"text-align: right;\">\n",
       "      <th></th>\n",
       "      <th>4741</th>\n",
       "      <th>6406</th>\n",
       "      <th>3461</th>\n",
       "      <th>11141</th>\n",
       "      <th>4746</th>\n",
       "      <th>8976</th>\n",
       "      <th>1681</th>\n",
       "      <th>10646</th>\n",
       "      <th>8731</th>\n",
       "      <th>4766</th>\n",
       "      <th>...</th>\n",
       "      <th>dayofweek</th>\n",
       "      <th>quarter</th>\n",
       "      <th>year</th>\n",
       "      <th>date</th>\n",
       "      <th>holiday</th>\n",
       "      <th>temp</th>\n",
       "      <th>power_lag_1_day</th>\n",
       "      <th>power_lag_2_day</th>\n",
       "      <th>power_lag_3_day</th>\n",
       "      <th>power_lag_4_day</th>\n",
       "    </tr>\n",
       "  </thead>\n",
       "  <tbody>\n",
       "    <tr>\n",
       "      <th>2022-03-31 22:45:00</th>\n",
       "      <td>0.191529</td>\n",
       "      <td>0.276789</td>\n",
       "      <td>0.039000</td>\n",
       "      <td>0.592722</td>\n",
       "      <td>0.062937</td>\n",
       "      <td>0.140524</td>\n",
       "      <td>0.184095</td>\n",
       "      <td>0.517062</td>\n",
       "      <td>0.52490</td>\n",
       "      <td>0.033444</td>\n",
       "      <td>...</td>\n",
       "      <td>3</td>\n",
       "      <td>1</td>\n",
       "      <td>2022</td>\n",
       "      <td>2022-03-31</td>\n",
       "      <td>0.0</td>\n",
       "      <td>62.4</td>\n",
       "      <td>7.467477</td>\n",
       "      <td>8.005408</td>\n",
       "      <td>8.758789</td>\n",
       "      <td>8.381417</td>\n",
       "    </tr>\n",
       "    <tr>\n",
       "      <th>2022-03-31 23:00:00</th>\n",
       "      <td>0.190529</td>\n",
       "      <td>0.261947</td>\n",
       "      <td>0.047333</td>\n",
       "      <td>0.185111</td>\n",
       "      <td>0.043312</td>\n",
       "      <td>0.021667</td>\n",
       "      <td>0.132143</td>\n",
       "      <td>0.310937</td>\n",
       "      <td>0.31720</td>\n",
       "      <td>0.125722</td>\n",
       "      <td>...</td>\n",
       "      <td>3</td>\n",
       "      <td>1</td>\n",
       "      <td>2022</td>\n",
       "      <td>2022-03-31</td>\n",
       "      <td>0.0</td>\n",
       "      <td>62.5</td>\n",
       "      <td>7.040345</td>\n",
       "      <td>7.787749</td>\n",
       "      <td>7.897097</td>\n",
       "      <td>9.603562</td>\n",
       "    </tr>\n",
       "    <tr>\n",
       "      <th>2022-03-31 23:15:00</th>\n",
       "      <td>0.196471</td>\n",
       "      <td>0.244526</td>\n",
       "      <td>0.052238</td>\n",
       "      <td>0.215222</td>\n",
       "      <td>0.020875</td>\n",
       "      <td>0.023476</td>\n",
       "      <td>0.471000</td>\n",
       "      <td>0.330813</td>\n",
       "      <td>0.20550</td>\n",
       "      <td>0.075611</td>\n",
       "      <td>...</td>\n",
       "      <td>3</td>\n",
       "      <td>1</td>\n",
       "      <td>2022</td>\n",
       "      <td>2022-03-31</td>\n",
       "      <td>0.0</td>\n",
       "      <td>62.7</td>\n",
       "      <td>5.827387</td>\n",
       "      <td>6.997056</td>\n",
       "      <td>6.328941</td>\n",
       "      <td>9.670107</td>\n",
       "    </tr>\n",
       "    <tr>\n",
       "      <th>2022-03-31 23:30:00</th>\n",
       "      <td>0.204706</td>\n",
       "      <td>0.254000</td>\n",
       "      <td>0.037762</td>\n",
       "      <td>0.310500</td>\n",
       "      <td>0.098187</td>\n",
       "      <td>0.021810</td>\n",
       "      <td>0.544429</td>\n",
       "      <td>0.326813</td>\n",
       "      <td>0.07625</td>\n",
       "      <td>0.104500</td>\n",
       "      <td>...</td>\n",
       "      <td>3</td>\n",
       "      <td>1</td>\n",
       "      <td>2022</td>\n",
       "      <td>2022-03-31</td>\n",
       "      <td>0.0</td>\n",
       "      <td>62.3</td>\n",
       "      <td>8.877407</td>\n",
       "      <td>7.425377</td>\n",
       "      <td>7.643645</td>\n",
       "      <td>8.499912</td>\n",
       "    </tr>\n",
       "    <tr>\n",
       "      <th>2022-03-31 23:45:00</th>\n",
       "      <td>0.231235</td>\n",
       "      <td>0.259368</td>\n",
       "      <td>0.024857</td>\n",
       "      <td>0.559833</td>\n",
       "      <td>0.090250</td>\n",
       "      <td>0.107476</td>\n",
       "      <td>0.259571</td>\n",
       "      <td>0.186688</td>\n",
       "      <td>0.08050</td>\n",
       "      <td>0.199500</td>\n",
       "      <td>...</td>\n",
       "      <td>3</td>\n",
       "      <td>1</td>\n",
       "      <td>2022</td>\n",
       "      <td>2022-03-31</td>\n",
       "      <td>0.0</td>\n",
       "      <td>60.7</td>\n",
       "      <td>11.025874</td>\n",
       "      <td>6.450620</td>\n",
       "      <td>10.743793</td>\n",
       "      <td>9.275064</td>\n",
       "    </tr>\n",
       "  </tbody>\n",
       "</table>\n",
       "<p>5 rows × 65 columns</p>\n",
       "</div>"
      ],
      "text/plain": [
       "                         4741      6406      3461     11141      4746  \\\n",
       "2022-03-31 22:45:00  0.191529  0.276789  0.039000  0.592722  0.062937   \n",
       "2022-03-31 23:00:00  0.190529  0.261947  0.047333  0.185111  0.043312   \n",
       "2022-03-31 23:15:00  0.196471  0.244526  0.052238  0.215222  0.020875   \n",
       "2022-03-31 23:30:00  0.204706  0.254000  0.037762  0.310500  0.098187   \n",
       "2022-03-31 23:45:00  0.231235  0.259368  0.024857  0.559833  0.090250   \n",
       "\n",
       "                         8976      1681     10646     8731      4766  ...  \\\n",
       "2022-03-31 22:45:00  0.140524  0.184095  0.517062  0.52490  0.033444  ...   \n",
       "2022-03-31 23:00:00  0.021667  0.132143  0.310937  0.31720  0.125722  ...   \n",
       "2022-03-31 23:15:00  0.023476  0.471000  0.330813  0.20550  0.075611  ...   \n",
       "2022-03-31 23:30:00  0.021810  0.544429  0.326813  0.07625  0.104500  ...   \n",
       "2022-03-31 23:45:00  0.107476  0.259571  0.186688  0.08050  0.199500  ...   \n",
       "\n",
       "                     dayofweek  quarter  year        date  holiday  temp  \\\n",
       "2022-03-31 22:45:00          3        1  2022  2022-03-31      0.0  62.4   \n",
       "2022-03-31 23:00:00          3        1  2022  2022-03-31      0.0  62.5   \n",
       "2022-03-31 23:15:00          3        1  2022  2022-03-31      0.0  62.7   \n",
       "2022-03-31 23:30:00          3        1  2022  2022-03-31      0.0  62.3   \n",
       "2022-03-31 23:45:00          3        1  2022  2022-03-31      0.0  60.7   \n",
       "\n",
       "                     power_lag_1_day  power_lag_2_day  power_lag_3_day  \\\n",
       "2022-03-31 22:45:00         7.467477         8.005408         8.758789   \n",
       "2022-03-31 23:00:00         7.040345         7.787749         7.897097   \n",
       "2022-03-31 23:15:00         5.827387         6.997056         6.328941   \n",
       "2022-03-31 23:30:00         8.877407         7.425377         7.643645   \n",
       "2022-03-31 23:45:00        11.025874         6.450620        10.743793   \n",
       "\n",
       "                     power_lag_4_day  \n",
       "2022-03-31 22:45:00         8.381417  \n",
       "2022-03-31 23:00:00         9.603562  \n",
       "2022-03-31 23:15:00         9.670107  \n",
       "2022-03-31 23:30:00         8.499912  \n",
       "2022-03-31 23:45:00         9.275064  \n",
       "\n",
       "[5 rows x 65 columns]"
      ]
     },
     "execution_count": 23,
     "metadata": {},
     "output_type": "execute_result"
    }
   ],
   "source": [
    "## Create lag variables\n",
    "num_lag_days = 4\n",
    "\n",
    "# Create lagged columns for specified number of lag days\n",
    "for lag_days in range(1, num_lag_days + 1):\n",
    "    column_name = f'power_lag_{lag_days}_day'\n",
    "    data[column_name] = data['total_power'].shift(periods=lag_days * 96)  # Shifting by lag_days days\n",
    "\n",
    "# Display the DataFrame with lagged columns\n",
    "data.tail()"
   ]
  },
  {
   "cell_type": "code",
   "execution_count": 24,
   "id": "923a6431-9bf7-4611-8182-37bd0459534b",
   "metadata": {},
   "outputs": [
    {
     "data": {
      "text/plain": [
       "0"
      ]
     },
     "execution_count": 24,
     "metadata": {},
     "output_type": "execute_result"
    }
   ],
   "source": [
    "data[data[\"year\"]==2021].isna().sum().sum()"
   ]
  },
  {
   "cell_type": "code",
   "execution_count": 25,
   "id": "ba8b585b-e32e-4e26-958e-fb7995822c34",
   "metadata": {},
   "outputs": [
    {
     "data": {
      "text/plain": [
       "0"
      ]
     },
     "execution_count": 25,
     "metadata": {},
     "output_type": "execute_result"
    }
   ],
   "source": [
    "data[data[\"year\"]==2022].isna().sum().sum()"
   ]
  },
  {
   "cell_type": "code",
   "execution_count": 26,
   "id": "dbf2abee-814e-4134-a348-b9b2b23ac3e1",
   "metadata": {},
   "outputs": [],
   "source": [
    "data[data[\"year\"]==2021].to_csv(\"train_2021.csv\", index = False)\n",
    "data[data[\"year\"]==2022].to_csv(\"test_2022.csv\", index = False)"
   ]
  },
  {
   "cell_type": "code",
   "execution_count": 27,
   "id": "2c528a05-9030-4b87-8ca3-ecaef711e7be",
   "metadata": {},
   "outputs": [
    {
     "data": {
      "text/plain": [
       "Index(['4741', '6406', '3461', '11141', '4746', '8976', '1681', '10646',\n",
       "       '8731', '4766', '9121', '9251', '4771', '10406', '10536', '4521',\n",
       "       '8746', '10411', '4786', '10421', '11061', '6966', '8761', '10811',\n",
       "       '9916', '1726', '11071', '8641', '6471', '6986', '9291', '9421',\n",
       "       '10706', '851', '6356', '4696', '4441', '4576', '4706', '4196', '4201',\n",
       "       '1001', '11116', '4461', '751', '8816', '4721', '759', '1016', '10746',\n",
       "       'total_power', 'month', 'day', 'hour', 'minute', 'dayofweek', 'quarter',\n",
       "       'year', 'date', 'holiday', 'temp', 'power_lag_1_day', 'power_lag_2_day',\n",
       "       'power_lag_3_day', 'power_lag_4_day'],\n",
       "      dtype='object')"
      ]
     },
     "execution_count": 27,
     "metadata": {},
     "output_type": "execute_result"
    }
   ],
   "source": [
    "data[data[\"year\"]==2021].columns"
   ]
  },
  {
   "cell_type": "markdown",
   "id": "9dcaf4ce",
   "metadata": {},
   "source": [
    "## Extract the temperature data, total power data from the data df and then interpolate. Add back all the exogenous variable"
   ]
  },
  {
   "cell_type": "code",
   "execution_count": 30,
   "id": "1ecb1606",
   "metadata": {},
   "outputs": [],
   "source": [
    "## add wind, humidity, heating and cooling dates data later"
   ]
  },
  {
   "cell_type": "code",
   "execution_count": 43,
   "id": "16c7244a",
   "metadata": {},
   "outputs": [],
   "source": [
    "data_train=data[data[\"year\"]==2021]\n",
    "data_test=data[data[\"year\"]==2022]"
   ]
  },
  {
   "cell_type": "markdown",
   "id": "ee87458b-8e8a-486d-8750-50e2313f2be1",
   "metadata": {},
   "source": [
    "### Check the moving average forecast for each year (this is the smooth trend line of the electricity consumption), we will checl if this trend line is same for every year"
   ]
  },
  {
   "cell_type": "code",
   "execution_count": 53,
   "id": "500cf501-2e1d-445e-9ffd-acb976a510a4",
   "metadata": {},
   "outputs": [
    {
     "name": "stdout",
     "output_type": "stream",
     "text": [
      "(35136, 65) (35040, 65) (8640, 65)\n"
     ]
    }
   ],
   "source": [
    "## Data for 2020, 2021 amd 2022, check if all date times are present\n",
    "data_20=data[data[\"year\"]==2020]\n",
    "data_21=data[data[\"year\"]==2021]\n",
    "data_22=data[data[\"year\"]==2022]\n",
    "print(data_20.shape, data_21.shape, data_22.shape)"
   ]
  },
  {
   "cell_type": "code",
   "execution_count": 59,
   "id": "540154a1-0901-40eb-8996-be45716a5958",
   "metadata": {},
   "outputs": [],
   "source": [
    "moving_average_20_y=data_20[\"total_power\"].rolling(96).mean()    #, min_periods=1\n",
    "moving_average_21_y=data_21[\"total_power\"].rolling(96).mean()\n",
    "moving_average_22_y=data_22[\"total_power\"].rolling(96).mean() \n",
    "moving_average_20_temp=data_20[\"temp\"].rolling(500).mean()    #, min_periods=1\n",
    "moving_average_21_temp=data_21[\"temp\"].rolling(500).mean()\n",
    "moving_average_22_temp=data_22[\"temp\"].rolling(500).mean() "
   ]
  },
  {
   "cell_type": "code",
   "execution_count": 77,
   "id": "2d361636-5cd5-422c-9b97-95fc17298797",
   "metadata": {},
   "outputs": [
    {
     "data": {
      "image/png": "[encoded data removed]",
      "text/plain": [
       "<Figure size 650x350 with 1 Axes>"
      ]
     },
     "metadata": {},
     "output_type": "display_data"
    }
   ],
   "source": [
    "import matplotlib.pyplot as plt\n",
    "\n",
    "# Set figure size for journal format\n",
    "plt.figure(figsize=(6.5, 3.5))\n",
    "\n",
    "# Plot data with distinct line styles for readability in grayscale\n",
    "plt.plot(moving_average_21_y, color=\"black\", linestyle=\"-\", linewidth=1, label=\"Training Data\")\n",
    "plt.plot(moving_average_22_y, color=\"gray\", linestyle=\"--\", linewidth=1, label=\"Testing Data\")\n",
    "\n",
    "# Label axes with journal-appropriate font size\n",
    "plt.xlabel(\"Time\", fontsize=10, fontname=\"Times New Roman\")\n",
    "plt.ylabel(\"Electricity Consumption (kWh)\", fontsize=10, fontname=\"Times New Roman\")\n",
    "\n",
    "# Ensure consistent font for ticks\n",
    "plt.xticks(fontsize=10, fontname=\"Times New Roman\")\n",
    "plt.yticks(fontsize=10, fontname=\"Times New Roman\")\n",
    "\n",
    "# Add a legend inside the plot for better space usage\n",
    "plt.legend(fontsize=10, loc=\"best\", frameon=True)\n",
    "\n",
    "# Add a subtle grid\n",
    "plt.grid(True, linestyle=\"--\", linewidth=0.5, alpha=0.7)\n",
    "\n",
    "# Save as high-resolution figure for publication\n",
    "plt.savefig(\"electricity_consumption_train_vs_test.png\", dpi=600, bbox_inches=\"tight\")\n",
    "\n",
    "# Show the plot\n",
    "plt.show()\n"
   ]
  },
  {
   "cell_type": "code",
   "execution_count": 101,
   "id": "98fa5692-4aff-4fdf-a054-be921a95f9ad",
   "metadata": {
    "tags": []
   },
   "outputs": [],
   "source": [
    "from statsmodels.graphics.tsaplots import plot_acf\n",
    "from statsmodels.graphics.tsaplots import plot_pacf"
   ]
  },
  {
   "cell_type": "code",
   "execution_count": 102,
   "id": "c2748172-ea91-4412-a60f-d2f42e437801",
   "metadata": {
    "tags": []
   },
   "outputs": [],
   "source": [
    "acfplot = np.array(data_21[\"total_power\"])    ##mon trining set"
   ]
  },
  {
   "cell_type": "code",
   "execution_count": 131,
   "id": "c9ffaed0",
   "metadata": {},
   "outputs": [
    {
     "data": {
      "image/png": "[encoded data removed]",
      "text/plain": [
       "<Figure size 1200x400 with 2 Axes>"
      ]
     },
     "metadata": {},
     "output_type": "display_data"
    }
   ],
   "source": [
    "# Create the subplots with reduced figure size\n",
    "fig, ax = plt.subplots(nrows=1, ncols=2, figsize=(12, 4))\n",
    "\n",
    "# Plot ACF and PACF with appropriate font sizes\n",
    "plot_acf(acfplot, lags=150, ax=ax[0])\n",
    "plot_pacf(acfplot, lags=150, ax=ax[1], method='ols')\n",
    "# Remove automatically generated titles\n",
    "ax[0].set_title(\"\")  \n",
    "ax[1].set_title(\"\")\n",
    "# Set y-axis limits to remove excessive negative space\n",
    "ax[0].set_ylim(-0.1, 1.0)  # Adjust based on actual ACF values\n",
    "ax[1].set_ylim(-0.1, 1.0)  # Adjust based on actual PACF values\n",
    "\n",
    "# Set axis labels with font size 18\n",
    "ax[0].set_ylabel(\"ACF\", fontsize=18)\n",
    "ax[1].set_ylabel(\"PACF\", fontsize=18)\n",
    "\n",
    "# Keep \"Lag\" as the x-axis label for both plots\n",
    "for a in ax:\n",
    "    a.set_xlabel(\"Lag\", fontsize=18)\n",
    "    a.tick_params(axis='both', which='both', labelsize=18)\n",
    "\n",
    "# Adjust layout\n",
    "plt.tight_layout()\n",
    "\n",
    "# Save the figure in high resolution\n",
    "plt.savefig(\"acf_pacf_plotiise.png\", dpi=700, bbox_inches='tight')  # High resolution for publication\n",
    "\n",
    "# Show the plot\n",
    "plt.show()"
   ]
  },
  {
   "cell_type": "code",
   "execution_count": 139,
   "id": "e2d6991e-33ac-416b-b44c-1ccb9b5b0825",
   "metadata": {
    "tags": []
   },
   "outputs": [
    {
     "data": {
      "image/png": "[encoded data removed]",
      "text/plain": [
       "<Figure size 600x350 with 1 Axes>"
      ]
     },
     "metadata": {},
     "output_type": "display_data"
    }
   ],
   "source": [
    "# Create scatter plot\n",
    "plt.figure(figsize=(6, 3.5))  # Adjust size for compact presentation\n",
    "plt.scatter(data_21[\"temp\"], data_21[\"total_power\"], marker=\".\")\n",
    "\n",
    "# Set axis labels with proper font size\n",
    "plt.xlabel(\"Temperature (°F)\", fontsize=14)\n",
    "plt.ylabel(\"Energy Demand (kWh)\", fontsize=14)\n",
    "\n",
    "# Set tick label size\n",
    "plt.tick_params(axis='both', which='both', labelsize=14)\n",
    "\n",
    "# Save the figure in high resolution\n",
    "plt.tight_layout()\n",
    "plt.savefig(\"dem_vs_temp.png\", dpi=700, bbox_inches='tight')\n",
    "\n",
    "# Show the plot\n",
    "plt.show()"
   ]
  },
  {
   "cell_type": "code",
   "execution_count": null,
   "id": "5bf2856c-3ae5-4e36-96ec-78ae75ad692b",
   "metadata": {},
   "outputs": [],
   "source": []
  },
  {
   "cell_type": "code",
   "execution_count": null,
   "id": "2a468e14",
   "metadata": {},
   "outputs": [],
   "source": []
  },
  {
   "cell_type": "code",
   "execution_count": null,
   "id": "06dd2498",
   "metadata": {},
   "outputs": [],
   "source": []
  },
  {
   "cell_type": "code",
   "execution_count": null,
   "id": "b0313d0c",
   "metadata": {},
   "outputs": [],
   "source": []
  },
  {
   "cell_type": "code",
   "execution_count": null,
   "id": "7766cb11",
   "metadata": {},
   "outputs": [],
   "source": []
  },
  {
   "cell_type": "code",
   "execution_count": null,
   "id": "30e8f9e3",
   "metadata": {},
   "outputs": [],
   "source": []
  },
  {
   "cell_type": "code",
   "execution_count": null,
   "id": "fb7083c9",
   "metadata": {},
   "outputs": [],
   "source": []
  },
  {
   "cell_type": "code",
   "execution_count": null,
   "id": "c37ccb03",
   "metadata": {},
   "outputs": [],
   "source": []
  },
  {
   "cell_type": "code",
   "execution_count": null,
   "id": "5f8f29a8",
   "metadata": {},
   "outputs": [],
   "source": []
  },
  {
   "cell_type": "code",
   "execution_count": null,
   "id": "fc99aa51",
   "metadata": {},
   "outputs": [],
   "source": []
  },
  {
   "cell_type": "code",
   "execution_count": null,
   "id": "25350d56",
   "metadata": {},
   "outputs": [],
   "source": []
  },
  {
   "cell_type": "code",
   "execution_count": null,
   "id": "a7f68331",
   "metadata": {},
   "outputs": [],
   "source": []
  },
  {
   "cell_type": "code",
   "execution_count": null,
   "id": "b61ae866",
   "metadata": {},
   "outputs": [],
   "source": []
  },
  {
   "cell_type": "code",
   "execution_count": null,
   "id": "96aa3e2e",
   "metadata": {},
   "outputs": [],
   "source": []
  },
  {
   "cell_type": "code",
   "execution_count": null,
   "id": "2e484aed",
   "metadata": {},
   "outputs": [],
   "source": []
  },
  {
   "cell_type": "code",
   "execution_count": null,
   "id": "d78d559f",
   "metadata": {},
   "outputs": [],
   "source": []
  }
 ],
 "metadata": {
  "kernelspec": {
   "display_name": "bootstrap_pi",
   "language": "python",
   "name": "bootstrap_pi"
  },
  "language_info": {
   "codemirror_mode": {
    "name": "ipython",
    "version": 3
   },
   "file_extension": ".py",
   "mimetype": "text/x-python",
   "name": "python",
   "nbconvert_exporter": "python",
   "pygments_lexer": "ipython3",
   "version": "3.10.14"
  }
 },
 "nbformat": 4,
 "nbformat_minor": 5
}
